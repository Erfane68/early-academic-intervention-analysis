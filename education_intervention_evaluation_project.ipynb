{
  "nbformat": 4,
  "nbformat_minor": 0,
  "metadata": {
    "colab": {
      "provenance": []
    },
    "kernelspec": {
      "name": "python3",
      "display_name": "Python 3"
    },
    "language_info": {
      "name": "python"
    }
  },
  "cells": [
    {
      "cell_type": "markdown",
      "source": [
        "# The Impact of Early Academic Intervention on Student Dropout Rates\n"
      ],
      "metadata": {
        "id": "wpw3WRKd5d4p"
      }
    },
    {
      "cell_type": "markdown",
      "source": [
        "#context\n",
        "A college launches an early academic intervention program (extra tutoring, check-ins, learning supports) for at-risk students. We want to investigate whether this intervention significantly reduces the dropout rate.\n",
        "\n"
      ],
      "metadata": {
        "id": "4apavRoy5sLN"
      }
    },
    {
      "cell_type": "markdown",
      "source": [
        "#Hypothetical Data\n"
      ],
      "metadata": {
        "id": "I14OqthE55gG"
      }
    },
    {
      "cell_type": "markdown",
      "source": [
        "|Group|Size|\tDropped Out||Rate ||Completed Program ||Rate | |Avg GPA| |Avg Credits Earned|\n",
        "|-----|----|-------------||---------||---------||---------||---------||---------|\n",
        "|Intervention - Participated| 20,200|  23| |1.1|   | 20,177| |98.9 | |3.2| |27.5|\n",
        "|Intervention - Declined| 10,800     |16| |1.5     ||10.784 | |98.5| |2.8| |23.1|\n",
        "|Intervention - Total| 31,000     |39| |1.3    ||30.961| |98.7 || 3.0| |25.4|\n",
        "|Control - Total| 31,000     |63| |2.0     ||30.937| |98.0 ||2.6| |21.7|"
      ],
      "metadata": {
        "id": "GJIrEExO6FO4"
      }
    },
    {
      "cell_type": "markdown",
      "source": [
        "#Objective:\n",
        "To test whether offering early intervention significantly reduces student dropout rates and improve academic performance.\n",
        "\n"
      ],
      "metadata": {
        "id": "Qm43Oz5H9-gA"
      }
    },
    {
      "cell_type": "markdown",
      "source": [
        "# 1. Dropout Analysis"
      ],
      "metadata": {
        "id": "zsqYdJpneGCf"
      }
    },
    {
      "cell_type": "markdown",
      "source": [
        "#Hypothesis\n",
        "Using the control group's dropout rate (63 out of 31,000 → 0.002) as the baseline:\n",
        "\n",
        "Null Hypothesis (H₀): The dropout rate among intervention students is the same as the control (π = 0.002)\n",
        "\n",
        "Alternative Hypothesis (H₁): The dropout rate among intervention students is less than the control group (π < 0.002)*italicized text*"
      ],
      "metadata": {
        "id": "f2jzerOYeBYP"
      }
    },
    {
      "cell_type": "markdown",
      "source": [
        "# Importing the libraries"
      ],
      "metadata": {
        "id": "NQMu6N_8-XuU"
      }
    },
    {
      "cell_type": "code",
      "source": [
        "from scipy.stats import binomtest\n",
        "\n",
        "import scipy.stats as stats\n",
        "\n",
        "import numpy as np\n",
        "\n",
        "import matplotlib.pyplot as plt\n",
        "\n",
        "from statsmodels.stats.proportion import proportions_ztest\n",
        "\n",
        "import seaborn as sns\n",
        "\n",
        "from scipy.stats import binom\n",
        "\n",
        "from scipy.stats import binomtest, ttest_ind, f_oneway"
      ],
      "metadata": {
        "id": "d9bEAfXd5riW"
      },
      "execution_count": 21,
      "outputs": []
    },
    {
      "cell_type": "markdown",
      "source": [
        "## **Binomial Distribution**\n",
        "**Null hypothesis $(H_0): π = 0.002$**\n",
        "\n",
        "**Alternative hypothesis $(H_a): π < 0.002$**"
      ],
      "metadata": {
        "id": "kPB-cuDD-5lh"
      }
    },
    {
      "cell_type": "markdown",
      "source": [
        "* The total number of interventions = 31,000\n",
        "* The hypothesized probability = 0.002\n",
        "* The number of drop out in the intervention trial group = 39"
      ],
      "metadata": {
        "id": "q31pL3ex_BJm"
      }
    },
    {
      "cell_type": "code",
      "source": [
        "# Finding the p-value using the Binomial distribution\n",
        "result = binomtest(k=39, n=31000, p=0.002, alternative = \"less\")\n",
        "print(\"The p value is:\", round (result.pvalue, 4))"
      ],
      "metadata": {
        "colab": {
          "base_uri": "https://localhost:8080/"
        },
        "id": "XtJJ-QHY_Axq",
        "outputId": "7481db91-31da-4404-9462-208c96e21fef"
      },
      "execution_count": 22,
      "outputs": [
        {
          "output_type": "stream",
          "name": "stdout",
          "text": [
            "The p value is: 0.0012\n"
          ]
        }
      ]
    },
    {
      "cell_type": "markdown",
      "source": [
        "Since the **p-value (0.0012) is less than 0.05, we reject the null hypothesis at a 95% confidence level**. This implies that we have sufficient evidence to conclude that offerinf interventions reduces the rate of dropout."
      ],
      "metadata": {
        "id": "jd7skAUsJbW-"
      }
    },
    {
      "cell_type": "markdown",
      "source": [
        "Now, let's plot the **probability distribution ~ Binom( n = 31000, p = 0.002 )**"
      ],
      "metadata": {
        "id": "hGpaoTnWJtrE"
      }
    },
    {
      "cell_type": "code",
      "execution_count": 23,
      "metadata": {
        "id": "GNRv7kw65bM7"
      },
      "outputs": [],
      "source": [
        "import numpy as np\n",
        "from scipy.stats import binom\n",
        "\n",
        "n = 31000\n",
        "p = 0.002\n",
        "k = np.arange(0, 200)\n",
        "\n",
        "dist = [binom.pmf(i, n, p) for i in k]"
      ]
    },
    {
      "cell_type": "code",
      "source": [
        "plt.figure(figsize=(10, 6))\n",
        "\n",
        "plt.bar(k, dist)\n",
        "\n",
        "plt.axvline (50, color = \"red\", linestyle = \"-\", linewidth = 1)\n",
        "\n",
        "plt.xlabel(\"Number of Dropouts\")\n",
        "\n",
        "plt.ylabel(\"Probability\")\n",
        "\n",
        "plt.title(\"Binomial Distribution\")\n",
        "\n",
        "plt.show()"
      ],
      "metadata": {
        "colab": {
          "base_uri": "https://localhost:8080/",
          "height": 564
        },
        "id": "sJM8kVLEQukr",
        "outputId": "de08aa55-d4a1-4a29-e962-2b8b4c7c333b"
      },
      "execution_count": 24,
      "outputs": [
        {
          "output_type": "display_data",
          "data": {
            "text/plain": [
              "<Figure size 1000x600 with 1 Axes>"
            ],
            "image/png": "[encoded data removed]"
          },
          "metadata": {}
        }
      ]
    },
    {
      "cell_type": "markdown",
      "source": [
        "In the above plot, the **red line shows the cut-off region** for a significance level of 0.05, i.e., the area under the curve on the left side of the red line is 0.05 or 5% of the probability density under the curve."
      ],
      "metadata": {
        "id": "JGcFiWdERlMv"
      }
    },
    {
      "cell_type": "markdown",
      "source": [
        "## **Normal Distribution**"
      ],
      "metadata": {
        "id": "bpLtvEx7RyK9"
      }
    },
    {
      "cell_type": "markdown",
      "source": [
        "We can also validate our result using another test, called the proportion test.\n",
        "\n",
        "A hypothesis test for a proportion is used when you are comparing one group to a known or hypothesized population proportion value. The hypothesized population proportion in our case study is equal to 63/31000 = 0.002\n",
        "\n",
        "There is a rule stating that if  𝑛∗𝑝≥10  and  𝑛∗(1−𝑝)≥10 , then the distribution of sample proportions is approximately normal and can be estimated using the normal distribution, i.e., using the z - statistic.\n",
        "\n",
        "As the condition in the rule is satisfied for our case study, we can use the normal distribution for the proportion test.\n",
        "\n",
        "Null hypothesis (𝐻0):π=63/31000=0.002\n",
        "\n",
        "Alternative (𝐻𝑎):π<0.002\n",
        "\n",
        "* count: The number of successes in trials / observations\n",
        "* nobs: The total number of trials / observations\n",
        "* value: The value of the null hypothesis (proportion)"
      ],
      "metadata": {
        "id": "GdI91F4QRzD-"
      }
    },
    {
      "cell_type": "code",
      "source": [
        "stat, pvalue = proportions_ztest(count = 39, nobs = 31000, value = 0.002, alternative = \"smaller\")\n",
        "print(\"The p value is:\", pvalue)"
      ],
      "metadata": {
        "colab": {
          "base_uri": "https://localhost:8080/"
        },
        "id": "iIJTI_FaRnGU",
        "outputId": "99e14eaf-e4c5-4abc-d9e3-fcc55b986c7c"
      },
      "execution_count": 25,
      "outputs": [
        {
          "output_type": "stream",
          "name": "stdout",
          "text": [
            "The p value is: 0.00011423176454888235\n"
          ]
        }
      ]
    },
    {
      "cell_type": "markdown",
      "source": [
        "#Result\n",
        "\n",
        "Since the **p-value (0.00011) is less than 0.05, we reject the null hypothesis at a 95% confidence level**. This implies that we have sufficient evidence to conclude that offering interventions reduces the rate of dropout."
      ],
      "metadata": {
        "id": "PCrQfKlyWnBh"
      }
    },
    {
      "cell_type": "markdown",
      "source": [
        "## Compare dropout rates directly between the treatment and control groups\n",
        "Is the proportion of dropouts in the EAI group significantly lower than in the Control group?"
      ],
      "metadata": {
        "id": "YdkZntVcZe-Z"
      }
    },
    {
      "cell_type": "markdown",
      "source": [
        " **Null hypothesis (H₀)**: π₁ = π₂ (dropout rates are the same)\n",
        "\n",
        "**Alternative hypothesis (Ha)**: π₁ < π₂ (dropout rate in EAI group is lower)\n",
        "\n",
        "\n",
        "* EAI Total Group: 39 dropouts out of 31,000\n",
        "\n",
        "* Control Group: 63 dropouts out of 31,000"
      ],
      "metadata": {
        "id": "ANZXXtYBZgdK"
      }
    },
    {
      "cell_type": "code",
      "source": [
        "# dropouts in each group\n",
        "\n",
        "dropouts = np.array([39, 63])\n",
        "\n",
        "# Total observations in each group\n",
        "nobs = np.array([31000, 31000])\n",
        "\n",
        "# Two-sample Z-test for proportions\n",
        "z_stat, p_val = proportions_ztest(count=dropouts, nobs=nobs, alternative='smaller')\n",
        "\n",
        "print(\"Two-sample Z-test p-value:\", round(p_val, 6))"
      ],
      "metadata": {
        "colab": {
          "base_uri": "https://localhost:8080/"
        },
        "id": "1ie7jZzqY9M7",
        "outputId": "277a8a4d-37b8-4d66-9d2d-d9ee97fafb4e"
      },
      "execution_count": 26,
      "outputs": [
        {
          "output_type": "stream",
          "name": "stdout",
          "text": [
            "Two-sample Z-test p-value: 0.008696\n"
          ]
        }
      ]
    },
    {
      "cell_type": "markdown",
      "source": [
        "#Result\n",
        "p-value is 0.008696 that is smaller than 0.05,so we reject the null value that the intervention significantly reduces dropout rate compared to control."
      ],
      "metadata": {
        "id": "c1vS9io-bFoF"
      }
    },
    {
      "cell_type": "markdown",
      "source": [
        "# 2. Academic Performance Analysis*`"
      ],
      "metadata": {
        "id": "RW9hpZCceWME"
      }
    },
    {
      "cell_type": "markdown",
      "source": [
        "Does participating in the Early Academic Intervention (EAI) significantly improve academic performance compared to the control?"
      ],
      "metadata": {
        "id": "OASMwOVDd3T2"
      }
    },
    {
      "cell_type": "markdown",
      "source": [
        "#Comparing EAI - Fully Participated and Control Group (T-test)"
      ],
      "metadata": {
        "id": "5QAw2C3xLSFZ"
      }
    },
    {
      "cell_type": "markdown",
      "source": [
        "#Hypothesis\n",
        "\n",
        "Null Hypothesis (H₀): μ₁ = μ₂\n",
        "\n",
        "Alternative Hypothesis (H₁): μ₁ ≠ μ₂"
      ],
      "metadata": {
        "id": "1HpXXlbMKwKE"
      }
    },
    {
      "cell_type": "markdown",
      "source": [
        "We’re simulating data for GPA and Credits Earned because we don’t have the actual data. For each group, we generate random values based on a normal distribution"
      ],
      "metadata": {
        "id": "m5-HeqvDNnkR"
      }
    },
    {
      "cell_type": "code",
      "source": [
        "# Simulated data for GPA (mean, standard deviation, sample size)\n",
        "gpa_eai_full = np.random.normal(3.2, 0.4, 500)  # EAI - Fully Participated\n",
        "gpa_eai_declined = np.random.normal(2.8, 0.5, 500)  # EAI - Declined\n",
        "gpa_control = np.random.normal(2.6, 0.5, 500)  # Control Group"
      ],
      "metadata": {
        "id": "a1HVnuhmKvNc"
      },
      "execution_count": 27,
      "outputs": []
    },
    {
      "cell_type": "code",
      "source": [
        "gpa_ttest, gpa_pvalue = stats.ttest_ind(gpa_eai_full, gpa_eai_declined)\n",
        "print(\"The T-test p value is:\", round(gpa_pvalue, 6))"
      ],
      "metadata": {
        "colab": {
          "base_uri": "https://localhost:8080/"
        },
        "id": "KOnmHYTWLlAH",
        "outputId": "343279f3-165c-4587-d4a8-7c87ec1f9bdc"
      },
      "execution_count": 28,
      "outputs": [
        {
          "output_type": "stream",
          "name": "stdout",
          "text": [
            "The T-test p value is: 0.0\n"
          ]
        }
      ]
    },
    {
      "cell_type": "markdown",
      "source": [
        "Since the p-value is less than 0.05, we reject the null hypothesis at a 95% confidence level.\n",
        "\n",
        "There is strong statistical evidence that the average GPA of the two groups is significantly different."
      ],
      "metadata": {
        "id": "fsNqQCXGOyC2"
      }
    },
    {
      "cell_type": "code",
      "source": [
        "# Simulated data for credit (mean, standard deviation, sample size)\n",
        "credit_eai_full = np.random.normal(27.5, 2.0, 500)  # EAI - Fully Participated\n",
        "credit_eai_declined = np.random.normal(23.1, 2.5, 500)  # EAI - Declined\n",
        "credit_control = np.random.normal(21.7, 3.0, 500)  # Control Group"
      ],
      "metadata": {
        "id": "L_kVXkTjPbKZ"
      },
      "execution_count": 29,
      "outputs": []
    },
    {
      "cell_type": "code",
      "source": [
        "credit_ttest, credit_pvalue = stats.ttest_ind(credit_eai_full, credit_eai_declined)\n",
        "print(\"The T-test p value is:\", round(credit_pvalue, 6))"
      ],
      "metadata": {
        "colab": {
          "base_uri": "https://localhost:8080/"
        },
        "id": "VgdsHOLrPqtF",
        "outputId": "b49168ad-fefd-44ad-b1d1-953d078a13e5"
      },
      "execution_count": 30,
      "outputs": [
        {
          "output_type": "stream",
          "name": "stdout",
          "text": [
            "The T-test p value is: 0.0\n"
          ]
        }
      ]
    },
    {
      "cell_type": "markdown",
      "source": [
        "Since the p-value is less than 0.05, we reject the null hypothesis at a 95% confidence level.\n",
        "\n",
        "There is strong statistical evidence that the average credit of the two groups is significantly different."
      ],
      "metadata": {
        "id": "y4D6sj_eQv9W"
      }
    },
    {
      "cell_type": "markdown",
      "source": [
        "#Comparing All Groups (Anova)"
      ],
      "metadata": {
        "id": "7Io1MOPXO_SS"
      }
    },
    {
      "cell_type": "markdown",
      "source": [
        "#Hypothesis\n",
        "\n",
        "Null Hypothesis (H₀): μ₁ = μ₂ = μ₃\n",
        "\n",
        "Alternative Hypothesis (H₁): μ₁ ≠ μ₂ ≠ μ₃"
      ],
      "metadata": {
        "id": "H8DU6PMmPJ2D"
      }
    },
    {
      "cell_type": "code",
      "source": [
        "# ANOVA for GPA across all three groups\n",
        "gpa_anova_stat, gpa_anova_p_val = stats.f_oneway(gpa_eai_full, gpa_eai_declined, gpa_control)\n",
        "print(\"ANOVA p-value for GPA across all groups:\", round(gpa_anova_p_val, 6))"
      ],
      "metadata": {
        "colab": {
          "base_uri": "https://localhost:8080/"
        },
        "id": "DfAE3X0JQ7ne",
        "outputId": "8def3b73-7e1f-4719-f6b9-8731fbb51b80"
      },
      "execution_count": 31,
      "outputs": [
        {
          "output_type": "stream",
          "name": "stdout",
          "text": [
            "ANOVA p-value for GPA across all groups: 0.0\n"
          ]
        }
      ]
    },
    {
      "cell_type": "markdown",
      "source": [
        "Since the ANOVA p-value is less than 0.05, we reject the null hypothesis at a 95% confidence level.\n",
        "\n",
        "There is strong statistical evidence that the average gpa of the all groups is significantly different.\n",
        "\n"
      ],
      "metadata": {
        "id": "6BIX7khKROPH"
      }
    },
    {
      "cell_type": "markdown",
      "source": [
        "# Visualizing the Data\n",
        "Boxplots help us visualize how the data is distributed in each group. to visually compare the distribution of GPA and credits across these groups."
      ],
      "metadata": {
        "id": "gdO3XnGhTekA"
      }
    },
    {
      "cell_type": "code",
      "source": [
        "gpa_all_groups = [gpa_eai_full, gpa_eai_declined, gpa_control]\n",
        "credits_all_groups = [credit_eai_full, credit_eai_declined, credit_control]\n"
      ],
      "metadata": {
        "id": "n-U7u9u6SOxS"
      },
      "execution_count": 32,
      "outputs": []
    },
    {
      "cell_type": "code",
      "source": [
        "\n",
        "# Boxplot for GPA\n",
        "plt.figure()\n",
        "sns.boxplot(data=gpa_all_groups)\n",
        "plt.xticks([0, 1, 2], ['EAI Full', 'EAI Declined', 'Control'])\n",
        "plt.title('GPA Comparison Between Groups')\n",
        "plt.ylabel('GPA')\n",
        "plt.show()\n",
        "\n",
        "# Boxplot for Credits Earned\n",
        "plt.figure()\n",
        "sns.boxplot(data=credits_all_groups)\n",
        "plt.xticks([0, 1, 2], ['EAI Full', 'EAI Declined', 'Control'])\n",
        "plt.title('Credits Earned Comparison Between Groups')\n",
        "plt.ylabel('Credits Earned')\n",
        "plt.show()\n"
      ],
      "metadata": {
        "colab": {
          "base_uri": "https://localhost:8080/",
          "height": 887
        },
        "id": "KkiHTbxbS1T7",
        "outputId": "3dce01c6-0c0f-4893-fa23-0f174b668798"
      },
      "execution_count": 33,
      "outputs": [
        {
          "output_type": "display_data",
          "data": {
            "text/plain": [
              "<Figure size 640x480 with 1 Axes>"
            ],
            "image/png": "[encoded data removed]"
          },
          "metadata": {}
        },
        {
          "output_type": "display_data",
          "data": {
            "text/plain": [
              "<Figure size 640x480 with 1 Axes>"
            ],
            "image/png": "[encoded data removed]"
          },
          "metadata": {}
        }
      ]
    },
    {
      "cell_type": "markdown",
      "source": [
        "\n",
        "\n",
        "---\n",
        "\n"
      ],
      "metadata": {
        "id": "4JhMlZNltd04"
      }
    },
    {
      "cell_type": "markdown",
      "source": [
        "#Conclusion\n",
        "This case study aimed to evaluate the effectiveness of an Early Academic Intervention (EAI) program in reducing student dropout rates and improving academic performance.\n",
        "\n",
        " 1. Dropout Rate Analysis\n",
        "Using statistical tests (binomial test and two-sample Z-test for proportions), we found:\n",
        "\n",
        "* The dropout rate among students who were offered the intervention (1.3%) was significantly lower than that of the control group (2.0%).\n",
        "\n",
        "* The p-values from both the binomial test (0.0012) and the z-test (0.0087) were well below the 0.05 significance threshold.\n",
        "\n",
        "This provides strong evidence to reject the null hypothesis and conclude that offering early interventions reduces dropout rates.\n",
        "\n",
        "2. Academic Performance Analysis\n",
        "We used simulated GPA and credit data (based on given averages) to run t-tests and ANOVA:\n",
        "\n",
        "* GPA: Students who fully participated in the EAI program had significantly higher average GPAs than those who declined or were in the control group.\n",
        "\n",
        "* Credits Earned: Similar significant differences were observed in the number of credits earned.\n",
        "\n",
        "* Both T-tests and ANOVA returned p-values of 0.0, indicating strong evidence of performance differences between groups."
      ],
      "metadata": {
        "id": "DZoU9f0itC38"
      }
    },
    {
      "cell_type": "markdown",
      "source": [
        "\n",
        "\n",
        "\n",
        "---\n",
        "\n"
      ],
      "metadata": {
        "id": "W1LYANnHtalD"
      }
    },
    {
      "cell_type": "markdown",
      "source": [
        "# Recommendations"
      ],
      "metadata": {
        "id": "DhzML8QytRIo"
      }
    },
    {
      "cell_type": "markdown",
      "source": [
        "Based on the findings, it is strongly recommended that the college fully implement and scale the Early Academic Intervention (EAI) program, as it significantly reduces dropout rates and improves academic outcomes such as GPA and credits earned. To maximize its impact, the institution should actively encourage student participation by raising awareness of its benefits and possibly integrating it into existing support services."
      ],
      "metadata": {
        "id": "ByS6e6tBtSF1"
      }
    }
  ]
}